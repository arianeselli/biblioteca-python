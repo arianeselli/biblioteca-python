{
  "cells": [
    {
      "cell_type": "markdown",
      "metadata": {
        "id": "view-in-github",
        "colab_type": "text"
      },
      "source": [
        "<a href=\"https://colab.research.google.com/github/arianeselli/biblioteca-python/blob/main/An%C3%A1lise_de_Similaridade_entre_%C3%82ngulos.ipynb\" target=\"_parent\"><img src=\"https://colab.research.google.com/assets/colab-badge.svg\" alt=\"Open In Colab\"/></a>"
      ]
    },
    {
      "cell_type": "code",
      "execution_count": 1,
      "metadata": {
        "colab": {
          "base_uri": "https://localhost:8080/",
          "height": 280
        },
        "id": "4tBzmGPnO8EM",
        "outputId": "548d4d09-f64a-4fc6-cc17-8bc9b16e5a88"
      },
      "outputs": [
        {
          "output_type": "display_data",
          "data": {
            "image/png": "[encoded data removed]",
            "text/plain": [
              "<Figure size 432x288 with 1 Axes>"
            ]
          },
          "metadata": {
            "needs_background": "light"
          }
        }
      ],
      "source": [
        "# Importando bibliotecas\n",
        "\n",
        "import random\n",
        "import cmath\n",
        "import numpy as np\n",
        "import matplotlib.pyplot as plt\n",
        "import math\n",
        "\n",
        "# Funções da biblioteca\n",
        "\n",
        "def pontos_aleatorios(quant_pontos, media, desvio_padrao):\n",
        "  conjunto_angulos_1 = desvio_padrao * np.random.randn(quant_pontos) \n",
        "  + media\n",
        "  return conjunto_angulos_1\n",
        "\n",
        "def adequar_angulos(lista_angulos):  \n",
        "  nova_lista = lista_angulos.copy()\n",
        "  i = 0\n",
        "  N = len(lista_angulos)\n",
        "  while(i<N):\n",
        "    aux = lista_angulos[i]\n",
        "    nova_lista[i] = aux%360\n",
        "    i = i+1\n",
        "  return nova_lista\n",
        "\n",
        "def grau_para_complexo(lista_angulos):\n",
        "  lista_numerosComplexos = []\n",
        "  for x in lista_angulos:\n",
        "     lista_numerosComplexos.append( math.cos(math.radians(x)) \n",
        "     + math.sin(math.radians(x))*(cmath.sqrt(-1)))\n",
        "\n",
        "  return lista_numerosComplexos\n",
        "\n",
        "def correntropiaComplexa(x, y, sigma):\n",
        "  N = len(x)\n",
        "  cte = 1/((2*math.pi)*sigma**2)\n",
        "  i=0\n",
        "  somatorio = 0\n",
        "  while i<N:\n",
        "    c = (x[i] - y[i])\n",
        "    aux = -  (c*c.conjugate())/(2*sigma**2)   \n",
        "    somatorio = somatorio + cmath.exp(aux)\n",
        "    i = i+1\n",
        "  return ((1/N)*somatorio).real\n",
        "\n",
        "\n",
        "# Rotina de teste\n",
        "angulos = pontos_aleatorios(100,0,0.1)\n",
        "\n",
        "deslocamentos =  np.arange(0, 725, 5)\n",
        "correntropiacomplexa_i = []\n",
        "\n",
        "for deslocamento in deslocamentos:\n",
        "  angulos = adequar_angulos(angulos)\n",
        "  angulos_deslocados = adequar_angulos([x + deslocamento for x \n",
        "                                        in angulos])   \n",
        "\n",
        "  x = grau_para_complexo(angulos)\n",
        "  y = grau_para_complexo(angulos_deslocados)\n",
        "  correntropiacomplexa_i.append(correntropiaComplexa(x,y,1))\n",
        "\n",
        "plt.xlabel('y = deslocamento do conjunto de ângulos')\n",
        "plt.ylabel('Vc(x,y,1)*2$\\pi \\sigma^2 $')\n",
        "plt.plot(deslocamentos,correntropiacomplexa_i, \"-bP\")\n",
        "plt.grid()"
      ]
    }
  ],
  "metadata": {
    "colab": {
      "collapsed_sections": [],
      "name": "Análise de Similaridade entre Ângulos",
      "provenance": [],
      "include_colab_link": true
    },
    "kernelspec": {
      "display_name": "Python 3",
      "name": "python3"
    },
    "language_info": {
      "name": "python"
    }
  },
  "nbformat": 4,
  "nbformat_minor": 0
}