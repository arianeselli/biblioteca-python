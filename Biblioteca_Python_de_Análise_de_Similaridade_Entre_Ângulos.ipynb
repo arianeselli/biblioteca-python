{
  "nbformat": 4,
  "nbformat_minor": 0,
  "metadata": {
    "colab": {
      "name": "Biblioteca Python de Análise de Similaridade Entre Ângulos",
      "provenance": [],
      "collapsed_sections": [],
      "include_colab_link": true
    },
    "kernelspec": {
      "name": "python3",
      "display_name": "Python 3"
    },
    "language_info": {
      "name": "python"
    }
  },
  "cells": [
    {
      "cell_type": "markdown",
      "metadata": {
        "id": "view-in-github",
        "colab_type": "text"
      },
      "source": [
        "<a href=\"https://colab.research.google.com/github/arianeselli/biblioteca-python/blob/main/Biblioteca_Python_de_An%C3%A1lise_de_Similaridade_Entre_%C3%82ngulos.ipynb\" target=\"_parent\"><img src=\"https://colab.research.google.com/assets/colab-badge.svg\" alt=\"Open In Colab\"/></a>"
      ]
    },
    {
      "cell_type": "code",
      "metadata": {
        "id": "jcHC8BQ6SlMk"
      },
      "source": [
        "import random\n",
        "import cmath\n",
        "import numpy as np\n",
        "import matplotlib.pyplot as plt\n",
        "import math"
      ],
      "execution_count": null,
      "outputs": []
    },
    {
      "cell_type": "code",
      "metadata": {
        "id": "7CzoDFgxbGmy",
        "colab": {
          "base_uri": "https://localhost:8080/",
          "height": 279
        },
        "outputId": "6c5549a8-7144-453a-88f9-e4134942ec85"
      },
      "source": [
        "# Tarefa: pesquisar como gerar números aleatórios no python. Gerar números complexos aleatórios.\n",
        " \n",
        "# Aqui gera os números aleatórios inteiros nesse intervalo entre 1 e 10\n",
        "x1 = random.randint(1,10) \n",
        "x2 = random.randint(1,10)\n",
        "x3 = random.randint(1,10)\n",
        " \n",
        "# E aqui gera os número complexos aleatórios \n",
        "z1 = complex(x1,x2)\n",
        "z2 = complex(x2,x3)\n",
        "z3 = complex(x3,x1)\n",
        " \n",
        "# Cor + estilo do ponto\n",
        "plt.plot(z1.real,z1.imag,\"bP\")\n",
        "plt.plot(z2.real,z2.imag,\"gP\")\n",
        "plt.plot(z3.real,z3.imag,\"rP\")\n",
        " \n",
        "plt.ylabel('Imaginários')\n",
        "plt.xlabel('Real')\n",
        "plt.grid()\n",
        "plt.show()"
      ],
      "execution_count": null,
      "outputs": [
        {
          "output_type": "display_data",
          "data": {
            "image/png": "[encoded data removed]",
            "text/plain": [
              "<Figure size 432x288 with 1 Axes>"
            ]
          },
          "metadata": {
            "needs_background": "light"
          }
        }
      ]
    },
    {
      "cell_type": "code",
      "metadata": {
        "id": "cW1fjGltX1Ne"
      },
      "source": [
        ""
      ],
      "execution_count": null,
      "outputs": []
    },
    {
      "cell_type": "code",
      "metadata": {
        "id": "Lpq7_jQ-_ktf",
        "colab": {
          "base_uri": "https://localhost:8080/",
          "height": 331
        },
        "outputId": "c4c74c1d-46e9-4a87-ecd5-2363e338ec76"
      },
      "source": [
        " # Gerar ângulos aleatórios\n",
        " \n",
        "# Passo 1 = Pega o número complexo aleatório  teste.real  teste.imag  \n",
        "# Passo 2 = Aplica na formula P = raiz de a(2) + b(2)   \n",
        "# Passo 3 = Depois descobre o argumento (con = a/P) e (sen = b/P) \n",
        "# Passo 4 = Pega o resultado gerado e faz um if-else para comparar na tabela dos angulos\n",
        "# Passo 5 = Mostra no gráfico e mostra o ângulo\n",
        " \n",
        "# Gerando números complexos aleatórios \n",
        "numero1 = random.uniform(0, 2 * math.pi)\n",
        "numero2 = random.uniform(0, 2 * math.pi)\n",
        "teste = complex(numero1, numero2)\n",
        " \n",
        "p = math.sqrt((teste.real ** 2) + (teste.imag ** 2)) \n",
        "print(p)\n",
        "print(teste.real)\n",
        "print(teste.imag)\n",
        " \n",
        "finalx = math.acos(teste.real / p)\n",
        "finaly = math.asin(teste.imag / p)\n",
        " \n",
        "# Precisa da tabela para sabermos os ângulos, mas muitas variáveis\n",
        "## implementar as tabelas?\n",
        "# Cor + estilo do ponto\n",
        "plt.plot(teste.real,teste.imag,\"bP\")\n",
        " \n",
        " \n",
        "plt.ylabel('Imaginários')\n",
        "plt.xlabel('Real')\n",
        "plt.grid()\n",
        "plt.show()"
      ],
      "execution_count": null,
      "outputs": [
        {
          "output_type": "stream",
          "name": "stdout",
          "text": [
            "5.832194619840753\n",
            "2.061071628392883\n",
            "5.455866368078798\n"
          ]
        },
        {
          "output_type": "display_data",
          "data": {
            "image/png": "[encoded data removed]",
            "text/plain": [
              "<Figure size 432x288 with 1 Axes>"
            ]
          },
          "metadata": {
            "needs_background": "light"
          }
        }
      ]
    },
    {
      "cell_type": "code",
      "metadata": {
        "id": "88sChsKouZbt",
        "colab": {
          "base_uri": "https://localhost:8080/",
          "height": 279
        },
        "outputId": "d53eaff4-842f-42f9-f716-0578c50fe0cb"
      },
      "source": [
        "# Primeira Tarefa: gerar função em python pra converter de ângulo pra um número complexo equivalente ok\n",
        "# Segunda Tarefa:  à partir de lista de angulos de 1-360 - > gerar lista de complexos equivalentes  ok\n",
        "# Terceira Tarefa:  desenhar (plotar) a lista dos complexos e contemplar o lindo circulo unitário \"ok\"\n",
        "\n",
        "cont = 0\n",
        "while (cont < 360):     \n",
        "    cont = cont + 1\n",
        "    x = math.cos(cont) + (cmath.sqrt(-1) * math.sin(cont))\n",
        "    plt.plot(x.real,x.imag,\"bP\")\n",
        " \n",
        "plt.ylabel('Imaginários')\n",
        "plt.xlabel('Real')\n",
        "plt.gca().set_aspect('equal')\n",
        "plt.grid()\n",
        "plt.show()"
      ],
      "execution_count": null,
      "outputs": [
        {
          "output_type": "display_data",
          "data": {
            "image/png": "[encoded data removed]",
            "text/plain": [
              "<Figure size 432x288 with 1 Axes>"
            ]
          },
          "metadata": {
            "needs_background": "light"
          }
        }
      ]
    },
    {
      "cell_type": "code",
      "metadata": {
        "id": "aArHi5ilSq2v",
        "colab": {
          "base_uri": "https://localhost:8080/",
          "height": 282
        },
        "outputId": "d4bc443a-3c62-4e37-fed7-dc7ea6e191f9"
      },
      "source": [
        "i = -5;\n",
        "total = [];\n",
        "\n",
        "while i <= 5: \n",
        "  i = i + 0.05\n",
        "  total.append(math.exp(-i))\n",
        "\n",
        "print(np.size(total))\n",
        "\n",
        "plt.plot(total,\"bP\")   \n",
        "plt.grid()"
      ],
      "execution_count": null,
      "outputs": [
        {
          "output_type": "stream",
          "name": "stdout",
          "text": [
            "201\n"
          ]
        },
        {
          "output_type": "display_data",
          "data": {
            "image/png": "[encoded data removed]",
            "text/plain": [
              "<Figure size 432x288 with 1 Axes>"
            ]
          },
          "metadata": {
            "needs_background": "light"
          }
        }
      ]
    },
    {
      "cell_type": "code",
      "metadata": {
        "id": "lOjs_DWRjxHC",
        "colab": {
          "base_uri": "https://localhost:8080/"
        },
        "outputId": "71c8b93e-e321-4df7-d284-4658b3ea61ad"
      },
      "source": [
        "# Script de cálculo da correntropia clássica\n",
        "from math import e\n",
        "x = [1, 2, 3, 4, 5]\n",
        "y = [111, -20, 300, 400, 591]\n",
        " \n",
        "sigma = 1\n",
        " \n",
        "def V(x, y, sigma):\n",
        "  N = len(x)\n",
        "  cte = 1/(math.sqrt((2*math.pi)*sigma**2))\n",
        "  i=0\n",
        "  soma = 0\n",
        "  while i<N:\n",
        "    miolo = math.exp(  -  ((x[i] - y[i])**2)/(2*sigma**2)  )    \n",
        "    soma = soma + miolo\n",
        "    i = i+1\n",
        "  return (1/N)*soma\n",
        " \n",
        "print(V(x,y,sigma))"
      ],
      "execution_count": null,
      "outputs": [
        {
          "output_type": "stream",
          "name": "stdout",
          "text": [
            "1.5913487783902802e-106\n"
          ]
        }
      ]
    },
    {
      "cell_type": "code",
      "metadata": {
        "id": "JGUzOpsBFYu_",
        "colab": {
          "base_uri": "https://localhost:8080/"
        },
        "outputId": "93aa819f-f1f1-45b5-b740-7a1d974367e2"
      },
      "source": [
        "# Script de cálculo da correntropia complexa\n",
        "import cmath\n",
        "x = [3+7j, 5+8.5j]\n",
        "y = [3+6.9j, 4.5+8j]\n",
        " \n",
        "sigma = 1\n",
        " \n",
        "def V(x, y, sigma):\n",
        "  N = len(x)\n",
        "  cte = 1/((2*math.pi)*sigma**2)\n",
        "  i=0\n",
        "  soma = 0\n",
        "  while i<N:\n",
        "    c = (x[i] - y[i])\n",
        "    miolo = -  (c*c.conjugate())/(2*sigma**2)   \n",
        "    soma = soma + cmath.exp(miolo)\n",
        "    i = i+1\n",
        "  return (1/N)*soma\n",
        " \n",
        "print(V(x,y, sigma))"
      ],
      "execution_count": null,
      "outputs": [
        {
          "output_type": "stream",
          "name": "stdout",
          "text": [
            "(0.8869066311320436+0j)\n"
          ]
        }
      ]
    },
    {
      "cell_type": "code",
      "metadata": {
        "id": "EIct06MIRaFd",
        "colab": {
          "base_uri": "https://localhost:8080/"
        },
        "outputId": "370d78c1-dae4-4522-8129-3f115d5f4d45"
      },
      "source": [
        "### FUNÇÃO Gera lista de pontos aleatórios com desvio_padrao e media\n",
        "\n",
        "def pontos_aleatorios(quant_pontos, media, desvio_padrao):\n",
        "  # Gerando os pontos aleatórios\n",
        "  conjunto_angulos_1 = desvio_padrao * np.random.randn(quant_pontos) \n",
        "  + media\n",
        "  return conjunto_angulos_1\n",
        "\n",
        "pontos =  pontos_aleatorios(40, 5, 0.5)\n",
        "print(pontos)"
      ],
      "execution_count": null,
      "outputs": [
        {
          "output_type": "stream",
          "name": "stdout",
          "text": [
            "[ 0.49838393  0.53419961  0.23666676 -0.48599907 -0.37244525 -0.00809478\n",
            "  0.42815308  0.14052625  0.39194984 -0.60253963 -0.17165143  0.1877022\n",
            " -0.1271335  -0.11198467  1.23674732 -0.1494197  -0.05595806  0.13903138\n",
            " -0.23519606  0.26952905 -0.32441375 -0.13020076 -0.03724963  0.50833591\n",
            "  0.30344506 -0.40195556  0.27250247  0.52716256 -0.55375148  0.37075787\n",
            " -0.10125921  0.61957541 -0.48626798 -0.78527917  0.08885578 -0.31250494\n",
            "  0.16867408  0.19462331 -0.13143342  0.66829975]\n"
          ]
        }
      ]
    },
    {
      "cell_type": "code",
      "metadata": {
        "id": "kpL7evZgQw7I",
        "colab": {
          "base_uri": "https://localhost:8080/"
        },
        "outputId": "72106727-f420-4781-cd55-0c39f735c466"
      },
      "source": [
        "# FUNÇÃO modifica angulos da lista para os valores ficar entre 0 e 360\n",
        " \n",
        "def adequar_angulos(lista_angulos):  \n",
        "  nova_lista = lista_angulos\n",
        "  i = 0\n",
        "  N = len(lista_angulos)\n",
        "  while(i<N):\n",
        "    aux = lista_angulos[i]\n",
        "    if (aux > 360):\n",
        "      aux =aux - 360\n",
        "    elif (aux < 0):      \n",
        "      aux = aux + 360    \n",
        "    nova_lista[i] = aux\n",
        "    i = i+1\n",
        "  return nova_lista\n",
        "\n",
        "angulos = adequar_angulos(pontos)\n",
        "print(angulos)"
      ],
      "execution_count": null,
      "outputs": [
        {
          "output_type": "stream",
          "name": "stdout",
          "text": [
            "[4.98383930e-01 5.34199605e-01 2.36666756e-01 3.59514001e+02\n",
            " 3.59627555e+02 3.59991905e+02 4.28153081e-01 1.40526253e-01\n",
            " 3.91949844e-01 3.59397460e+02 3.59828349e+02 1.87702199e-01\n",
            " 3.59872866e+02 3.59888015e+02 1.23674732e+00 3.59850580e+02\n",
            " 3.59944042e+02 1.39031379e-01 3.59764804e+02 2.69529046e-01\n",
            " 3.59675586e+02 3.59869799e+02 3.59962750e+02 5.08335915e-01\n",
            " 3.03445063e-01 3.59598044e+02 2.72502465e-01 5.27162562e-01\n",
            " 3.59446249e+02 3.70757874e-01 3.59898741e+02 6.19575408e-01\n",
            " 3.59513732e+02 3.59214721e+02 8.88557849e-02 3.59687495e+02\n",
            " 1.68674084e-01 1.94623313e-01 3.59868567e+02 6.68299746e-01]\n"
          ]
        }
      ]
    },
    {
      "cell_type": "code",
      "metadata": {
        "id": "GdC3NdB3vb1f",
        "colab": {
          "base_uri": "https://localhost:8080/"
        },
        "outputId": "d40224c2-dd5a-476f-a4f0-2884c73cdc46"
      },
      "source": [
        "# FUNÇÃO de angulo para complexo\n",
        "import math\n",
        "import cmath\n",
        "\n",
        "def degree2complex(angles_list):\n",
        "  complexNumbersList = []\n",
        "  for x in angles_list:\n",
        "     complexNumbersList.append( math.cos(math.degrees(x)) + math.sin(math.degrees(x))*(cmath.sqrt(-1)))\n",
        "\n",
        "  return complexNumbersList\n",
        "complexos = degree2complex(angulos)\n",
        "print(complexos)"
      ],
      "execution_count": null,
      "outputs": [
        {
          "output_type": "stream",
          "name": "stdout",
          "text": [
            "[(-0.9607891674528742-0.27727995907604425j), (0.6905524604138171-0.7232823096249649j), (0.5456467159567702+0.8380153109374505j), (-0.7051934278161152+0.7090149711853464j), (-0.8445185432730281+0.5355263112751815j), (-0.10951928046636808-0.9939846715146713j), (0.8245574947361468-0.5657781701996368j), (-0.19629654492920856+0.9805445764721027j), (-0.8934071713218829-0.44924784499275217j), (-0.37889219322438566+0.9254408170777939j), (0.05603763248187354+0.9984286573139948j), (-0.23870346361062425-0.9710925066440845j), (-0.6027717540043948-0.7979136623560631j), (0.219199525381543-0.975680054153259j), (-0.17368180836479016+0.9848018224207022j), (-0.9383124870737672+0.3457884853511483j), (-0.2854631286289095+0.9583896922407892j), (-0.11169602953450254+0.9937424198383742j), (-0.5272098104912883-0.8497351444548706j), (-0.9650698543947374+0.261992702452798j), (0.5778359110376773-0.816152963552334j), (-0.7329929348794371-0.6802362511780957j), (-0.9781573488625828+0.207865824189845j), (-0.6591047403240249-0.7520511560275669j), (0.10715566758421027-0.9942422556422464j), (0.6327901448033492+0.7743233385606793j), (-0.9955172162432226+0.09458050625443185j), (0.3513940517497819-0.9362276541498182j), (0.04234859672763889-0.9991028957796088j), (-0.7328553085018978+0.6803845212823321j), (0.7416435719057938-0.6707941653374869j), (-0.5885462929026333-0.8084635187258407j), (-0.6941860135733324+0.7197956505558818j), (-0.610607428283722-0.7919334369280914j), (0.36968732212176114-0.9291562214517218j), (0.9631287516293964-0.2690409035533455j), (-0.9714483655010164-0.23725107621548025j), (0.1548939967229137-0.9879310956636611j), (-0.7791678405239756-0.6268153446535946j), (0.8300254127449822+0.5577255724794425j)]\n"
          ]
        }
      ]
    },
    {
      "cell_type": "code",
      "metadata": {
        "id": "7QuzKNHqYRSy",
        "colab": {
          "base_uri": "https://localhost:8080/"
        },
        "outputId": "e7a37f95-31ff-4c66-965a-07c009a6bc0c"
      },
      "source": [
        "# FUNÇÃO para corrrentropia complexa\n",
        "\n",
        "def V(x, y, sigma):\n",
        "  N = len(x)\n",
        "  cte = 1/((2*math.pi)*sigma**2)\n",
        "  i=0\n",
        "  summation = 0\n",
        "  while i<N:\n",
        "    c = (x[i] - y[i])\n",
        "    aux = -  (c*c.conjugate())/(2*sigma**2)   \n",
        "    summation = summation + cmath.exp(aux)\n",
        "    i = i+1\n",
        "  return cte*summation\n",
        "\n",
        "V(complexos, complexos, 1)\n",
        " # x e y são listas e sigma = 1"
      ],
      "execution_count": null,
      "outputs": [
        {
          "output_type": "execute_result",
          "data": {
            "text/plain": [
              "(6.366197723675814+0j)"
            ]
          },
          "metadata": {},
          "execution_count": 11
        }
      ]
    },
    {
      "cell_type": "code",
      "metadata": {
        "colab": {
          "base_uri": "https://localhost:8080/",
          "height": 280
        },
        "id": "XdaFZy5m0ykN",
        "outputId": "25ed0167-0760-4c89-e54e-d9dd91ad15c9"
      },
      "source": [
        "# Importando bibliotecas\n",
        "\n",
        "import random\n",
        "import cmath\n",
        "import numpy as np\n",
        "import matplotlib.pyplot as plt\n",
        "import math\n",
        "\n",
        "# Funções da biblioteca\n",
        "\n",
        "def pontos_aleatorios(quant_pontos, media, desvio_padrao):\n",
        "  # Gerando os pontos aleatórios\n",
        "  conjunto_angulos_1 = desvio_padrao * np.random.randn(quant_pontos) + media\n",
        "  return conjunto_angulos_1\n",
        "\n",
        "def V(x, y, sigma):\n",
        "  N = len(x)\n",
        "  cte = 1/((2*math.pi)*sigma**2)\n",
        "  i=0\n",
        "  soma = 0\n",
        "  while i<N:\n",
        "    c = (x[i] - y[i])\n",
        "    miolo = -  (c*c.conjugate())/(2*sigma**2)   \n",
        "    soma = soma + cmath.exp(miolo)\n",
        "    i = i+1\n",
        "  return (1/N)*soma\n",
        " \n",
        "def adequar_angulos(lista_angulos):  \n",
        "  nova_lista = lista_angulos.copy()\n",
        "  i = 0\n",
        "  N = len(lista_angulos)\n",
        "  while(i<N):\n",
        "    aux = lista_angulos[i]\n",
        "    nova_lista[i] = aux%360\n",
        "    i = i+1\n",
        "  return nova_lista\n",
        "\n",
        "def degree2complex(angles_list):\n",
        "  complexNumbersList = []\n",
        "  for x in angles_list:\n",
        "     complexNumbersList.append( math.cos(math.degrees(x)) \n",
        "     + math.sin(math.degrees(x))*(cmath.sqrt(-1)))\n",
        "\n",
        "  return complexNumbersList\n",
        "\n",
        "def V(x, y, sigma):\n",
        "  N = len(x)\n",
        "  cte = 1/((2*math.pi)*sigma**2)\n",
        "  i=0\n",
        "  summation = 0\n",
        "  while i<N:\n",
        "    c = (x[i] - y[i])\n",
        "    aux = -  (c*c.conjugate())/(2*sigma**2)   \n",
        "    summation = summation + cmath.exp(aux)\n",
        "    i = i+1\n",
        "  # return ((1/N)*cte*summation).real\n",
        "  return ((1/N)*summation).real\n",
        "\n",
        "\n",
        "# main\n",
        "angulos = pontos_aleatorios(100,0,10)\n",
        "\n",
        "deslocamentos = [0, 90, 180, 270, 360, 450, 540, 630, 720]\n",
        "vci = []\n",
        "\n",
        "for deslocamento in deslocamentos:\n",
        "  angulos = adequar_angulos(angulos)\n",
        "  angulos_deslocados = adequar_angulos([x + deslocamento for x \n",
        "                                        in angulos])   \n",
        "\n",
        "  x = degree2complex(angulos)\n",
        "  y = degree2complex(angulos_deslocados)\n",
        "  vci.append(V(x,y,1))\n",
        "\n",
        "plt.xlabel('y = deslocamento do conjunto de ângulos')\n",
        "plt.ylabel('Vc(x,y,1)*2$\\pi \\sigma^2 $')\n",
        "plt.plot(deslocamentos,vci, \"-bP\")\n",
        "plt.grid()\n"
      ],
      "execution_count": null,
      "outputs": [
        {
          "output_type": "display_data",
          "data": {
            "image/png": "[encoded data removed]",
            "text/plain": [
              "<Figure size 432x288 with 1 Axes>"
            ]
          },
          "metadata": {
            "needs_background": "light"
          }
        }
      ]
    },
    {
      "cell_type": "code",
      "metadata": {
        "id": "9eHf8NCL07TA"
      },
      "source": [
        ""
      ],
      "execution_count": null,
      "outputs": []
    }
  ]
}